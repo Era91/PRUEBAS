{
  "nbformat": 4,
  "nbformat_minor": 0,
  "metadata": {
    "colab": {
      "provenance": [],
      "authorship_tag": "ABX9TyM88UULWgCl5TYsJUbBCQDw",
      "include_colab_link": true
    },
    "kernelspec": {
      "name": "python3",
      "display_name": "Python 3"
    },
    "language_info": {
      "name": "python"
    }
  },
  "cells": [
    {
      "cell_type": "markdown",
      "metadata": {
        "id": "view-in-github",
        "colab_type": "text"
      },
      "source": [
        "<a href=\"https://colab.research.google.com/github/Era91/PRUEBAS/blob/main/Fundamentos_Python.ipynb\" target=\"_parent\"><img src=\"https://colab.research.google.com/assets/colab-badge.svg\" alt=\"Open In Colab\"/></a>"
      ]
    },
    {
      "cell_type": "code",
      "execution_count": 1,
      "metadata": {
        "colab": {
          "base_uri": "https://localhost:8080/"
        },
        "id": "GIggPE0SnlWv",
        "outputId": "bbc90ef6-326a-4603-ca10-79dd891f0ec9"
      },
      "outputs": [
        {
          "output_type": "stream",
          "name": "stdout",
          "text": [
            "Hola Rafael\n"
          ]
        }
      ],
      "source": [
        "nombre = \"Rafael\"\n",
        "\n",
        "print(\"Hola\", nombre)"
      ]
    },
    {
      "cell_type": "code",
      "source": [
        "print (f\"Hola {nombre}\") #Impresion por f-string"
      ],
      "metadata": {
        "colab": {
          "base_uri": "https://localhost:8080/"
        },
        "id": "0d_l1EU1n5o8",
        "outputId": "3025821e-5a93-4c4f-d496-9190844c74d9"
      },
      "execution_count": 2,
      "outputs": [
        {
          "output_type": "stream",
          "name": "stdout",
          "text": [
            "Hola Rafael\n"
          ]
        }
      ]
    },
    {
      "cell_type": "code",
      "source": [
        "nombre=input(\"Ingrese su nombre: \") #Input guarda cadenas de caracteres\n",
        "print (f\"Hola, bienvenido a mi programna {nombre}\")"
      ],
      "metadata": {
        "colab": {
          "base_uri": "https://localhost:8080/"
        },
        "id": "MS3gOly2oEj0",
        "outputId": "6f858277-5841-4255-cb10-31d86b2c230d"
      },
      "execution_count": 3,
      "outputs": [
        {
          "output_type": "stream",
          "name": "stdout",
          "text": [
            "Ingrese su nombre: Rafael\n",
            "Hola, bienvenido a mi programna Rafael\n"
          ]
        }
      ]
    },
    {
      "cell_type": "code",
      "source": [
        "num1 = int(input(\"Ingresa un numero: \"))\n",
        "num2 = int(input(\"Ingresa un numero: \"))\n",
        "num3 = int(input(\"Ingresa un numero: \"))\n",
        "\n",
        "print(f\"La suma es: {num1+num2+num3}\")"
      ],
      "metadata": {
        "colab": {
          "base_uri": "https://localhost:8080/"
        },
        "id": "WjEol-I7oUMt",
        "outputId": "257db51b-f78d-4866-e344-d4e7634cbe22"
      },
      "execution_count": 5,
      "outputs": [
        {
          "output_type": "stream",
          "name": "stdout",
          "text": [
            "Ingresa un numero: 10\n",
            "Ingresa un numero: 12\n",
            "Ingresa un numero: 15\n",
            "La suma es: 37\n"
          ]
        }
      ]
    },
    {
      "cell_type": "code",
      "source": [
        "a=5\n",
        "b=10\n",
        "\n",
        "print(f\"La multiplicacion es: {a*b}\")"
      ],
      "metadata": {
        "colab": {
          "base_uri": "https://localhost:8080/"
        },
        "id": "QtKPiD-Fo533",
        "outputId": "19b41d34-2235-4223-8132-3e0e721a61de"
      },
      "execution_count": 6,
      "outputs": [
        {
          "output_type": "stream",
          "name": "stdout",
          "text": [
            "La multiplicacion es: 50\n"
          ]
        }
      ]
    },
    {
      "cell_type": "code",
      "source": [
        "print(\"Elevar una potencia\")\n",
        "print(f\"2 elevado a la 3 es: {2**3}\")"
      ],
      "metadata": {
        "colab": {
          "base_uri": "https://localhost:8080/"
        },
        "id": "HCdNhfcUpCJU",
        "outputId": "6739e0ee-3d58-4535-f0c3-39e479abec71"
      },
      "execution_count": 7,
      "outputs": [
        {
          "output_type": "stream",
          "name": "stdout",
          "text": [
            "Elevar una potencia\n",
            "2 elevado a la 3 es: 8\n"
          ]
        }
      ]
    },
    {
      "cell_type": "code",
      "source": [
        "#37/5  37=5*7+2\n",
        "\n",
        "print(f\"El residuo de 35/7 es: {35%7}\")#debe regresar 2, revisar el modulo\n"
      ],
      "metadata": {
        "colab": {
          "base_uri": "https://localhost:8080/"
        },
        "id": "p5S5nurspMgW",
        "outputId": "da17b8d8-5bf2-4934-82db-9196640af877"
      },
      "execution_count": 10,
      "outputs": [
        {
          "output_type": "stream",
          "name": "stdout",
          "text": [
            "El residuo de 35/7 es: 0\n"
          ]
        }
      ]
    },
    {
      "cell_type": "markdown",
      "source": [
        "Condicionales"
      ],
      "metadata": {
        "id": "dgkXOvf3qDG-"
      }
    },
    {
      "cell_type": "code",
      "source": [
        "a=34\n",
        "b=10\n",
        "\n",
        "print(34==10)"
      ],
      "metadata": {
        "colab": {
          "base_uri": "https://localhost:8080/"
        },
        "id": "Yax4nWtUqC6O",
        "outputId": "6cfdd6a2-1039-46fc-deb8-eb0c2b364440"
      },
      "execution_count": 11,
      "outputs": [
        {
          "output_type": "stream",
          "name": "stdout",
          "text": [
            "False\n"
          ]
        }
      ]
    },
    {
      "cell_type": "markdown",
      "source": [
        "Operador AND"
      ],
      "metadata": {
        "id": "WFDP1a94sEYw"
      }
    },
    {
      "cell_type": "code",
      "source": [
        "a=34\n",
        "b=10\n",
        "name1=\"Rafa\"\n",
        "name2=\"Rafa\"\n",
        "\n",
        "print (a > b and name1 == name2)"
      ],
      "metadata": {
        "colab": {
          "base_uri": "https://localhost:8080/"
        },
        "id": "rqG7VhCCqOkQ",
        "outputId": "54203acc-a74b-4c70-ef70-3ac1e6664c3e"
      },
      "execution_count": 15,
      "outputs": [
        {
          "output_type": "stream",
          "name": "stdout",
          "text": [
            "True\n"
          ]
        }
      ]
    },
    {
      "cell_type": "markdown",
      "source": [
        "Operador OR"
      ],
      "metadata": {
        "id": "NHfBNR7Pq1D_"
      }
    },
    {
      "cell_type": "code",
      "source": [
        "a=34\n",
        "b=10\n",
        "name1=\"Rafa\"\n",
        "name2=\"Rafa\"\n",
        "\n",
        "print (a < b or name1 != name2)"
      ],
      "metadata": {
        "colab": {
          "base_uri": "https://localhost:8080/"
        },
        "id": "boO--DY7qu41",
        "outputId": "1b4ab62f-143d-432c-a5a9-3347ae449de0"
      },
      "execution_count": 20,
      "outputs": [
        {
          "output_type": "stream",
          "name": "stdout",
          "text": [
            "False\n"
          ]
        }
      ]
    },
    {
      "cell_type": "markdown",
      "source": [
        "Concatenar operadores"
      ],
      "metadata": {
        "id": "ARNfW2SLsSD4"
      }
    },
    {
      "cell_type": "code",
      "source": [
        "a=34\n",
        "b=10\n",
        "name1=\"Rafa\"\n",
        "name2=\"Lalo\"\n",
        "\n",
        "print ((a > b or name1 != name2)and name1 != name2)"
      ],
      "metadata": {
        "colab": {
          "base_uri": "https://localhost:8080/"
        },
        "id": "oJIl2RYgrY5g",
        "outputId": "c9b67fed-f9c2-44a2-aba3-6dffb0f28a70"
      },
      "execution_count": 26,
      "outputs": [
        {
          "output_type": "stream",
          "name": "stdout",
          "text": [
            "True\n"
          ]
        }
      ]
    },
    {
      "cell_type": "markdown",
      "source": [
        "### Condicionales"
      ],
      "metadata": {
        "id": "EG11VfbxrSZn"
      }
    },
    {
      "cell_type": "markdown",
      "source": [
        "Para tomar decisiones en python segun el flujo de mi programa ocupa condicionales if, elif, else\n"
      ],
      "metadata": {
        "id": "3M93lGDRsxiG"
      }
    },
    {
      "cell_type": "code",
      "source": [
        "correo = \"rafael@gmail.com\"\n",
        "contrasena = \"1234\"\n",
        "\n",
        "correo_ingresado = input(\"ingrese su correo: \")\n",
        "\n",
        "if correo_ingresado == correo: #if + condicion + :\n",
        "  print(\"Correo correcto\")\n",
        "  contrasena_ingresado = input (\"Ingrese contrasena: \")\n",
        "  if contrasena_ingresado==contrasena:\n",
        "    print(\"Contrasena correcta\")\n",
        "    print(\"Bienvenido al sistema\")\n",
        "  else:\n",
        "    print(\"Contrasena Incorrecta\")\n",
        "\n",
        "else: #Else no lleva ninguna condicion, se ejecuta si no se ejecuta el if\n",
        "  print(\"Correo incorrecto\")\n"
      ],
      "metadata": {
        "colab": {
          "base_uri": "https://localhost:8080/"
        },
        "id": "swGDi7MtsWtP",
        "outputId": "e4e000ad-b768-4e62-bbbc-8947d59bb187"
      },
      "execution_count": 31,
      "outputs": [
        {
          "output_type": "stream",
          "name": "stdout",
          "text": [
            "ingrese su correo: rafael@gmail.com\n",
            "Correo correcto\n",
            "Ingrese contrasena: 145\n",
            "Contrasena Incorrecta\n"
          ]
        }
      ]
    },
    {
      "cell_type": "code",
      "source": [
        "correo = \"rafael@gmail.com\"\n",
        "contrasena = \"1234\"\n",
        "\n",
        "correo_ingresado = input(\"ingrese su correo: \")\n",
        "contrasena_ingresado = input (\"Ingrese contrasena: \")\n",
        "\n",
        "if correo_ingresado==correo and contrasena_ingresado==contrasena:\n",
        "  print(\"Contrasena correcta\")\n",
        "  print(\"Bienvenido al sistema\")\n",
        "\n",
        "else:\n",
        "  print(\"Contrasena incorrecta\")"
      ],
      "metadata": {
        "colab": {
          "base_uri": "https://localhost:8080/"
        },
        "id": "6hMKsdRJuI5Y",
        "outputId": "50f85a63-971e-472c-d05e-5d489d01a819"
      },
      "execution_count": 36,
      "outputs": [
        {
          "output_type": "stream",
          "name": "stdout",
          "text": [
            "ingrese su correo: 1\n",
            "Ingrese contrasena: 1\n",
            "Contrasena incorrecta\n"
          ]
        }
      ]
    }
  ]
}